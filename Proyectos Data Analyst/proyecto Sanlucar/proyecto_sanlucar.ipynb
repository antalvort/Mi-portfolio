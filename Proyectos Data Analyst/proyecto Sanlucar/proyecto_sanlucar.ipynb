{
  "cells": [
    {
      "cell_type": "markdown",
      "metadata": {
        "id": "view-in-github",
        "colab_type": "text"
      },
      "source": [
        "<a href=\"https://colab.research.google.com/github/antalvort/Mi-portfolio/blob/main/Proyectos%20Data%20Analyst/proyecto%20Sanlucar/proyecto_sanlucar.ipynb\" target=\"_parent\"><img src=\"https://colab.research.google.com/assets/colab-badge.svg\" alt=\"Open In Colab\"/></a>"
      ]
    },
    {
      "cell_type": "code",
      "execution_count": 137,
      "metadata": {
        "id": "7sm5iVgvvrPZ"
      },
      "outputs": [],
      "source": [
        "import pandas as pd\n",
        "import numpy as np\n",
        "import seaborn as sns\n",
        "import matplotlib.pyplot as plt"
      ]
    },
    {
      "cell_type": "code",
      "source": [
        "from google.colab import files"
      ],
      "metadata": {
        "id": "eA6bBSzjwble"
      },
      "execution_count": 138,
      "outputs": []
    },
    {
      "cell_type": "code",
      "source": [
        "uploaded=files.upload()"
      ],
      "metadata": {
        "id": "_ZnlO2pXwlrJ",
        "outputId": "defbc90b-78fb-4b13-8ca0-e9360aa1d6ba",
        "colab": {
          "base_uri": "https://localhost:8080/",
          "height": 73
        }
      },
      "execution_count": 139,
      "outputs": [
        {
          "output_type": "display_data",
          "data": {
            "text/plain": [
              "<IPython.core.display.HTML object>"
            ],
            "text/html": [
              "\n",
              "     <input type=\"file\" id=\"files-fa766ad4-beff-4ad6-883f-fccbea49b740\" name=\"files[]\" multiple disabled\n",
              "        style=\"border:none\" />\n",
              "     <output id=\"result-fa766ad4-beff-4ad6-883f-fccbea49b740\">\n",
              "      Upload widget is only available when the cell has been executed in the\n",
              "      current browser session. Please rerun this cell to enable.\n",
              "      </output>\n",
              "      <script>// Copyright 2017 Google LLC\n",
              "//\n",
              "// Licensed under the Apache License, Version 2.0 (the \"License\");\n",
              "// you may not use this file except in compliance with the License.\n",
              "// You may obtain a copy of the License at\n",
              "//\n",
              "//      http://www.apache.org/licenses/LICENSE-2.0\n",
              "//\n",
              "// Unless required by applicable law or agreed to in writing, software\n",
              "// distributed under the License is distributed on an \"AS IS\" BASIS,\n",
              "// WITHOUT WARRANTIES OR CONDITIONS OF ANY KIND, either express or implied.\n",
              "// See the License for the specific language governing permissions and\n",
              "// limitations under the License.\n",
              "\n",
              "/**\n",
              " * @fileoverview Helpers for google.colab Python module.\n",
              " */\n",
              "(function(scope) {\n",
              "function span(text, styleAttributes = {}) {\n",
              "  const element = document.createElement('span');\n",
              "  element.textContent = text;\n",
              "  for (const key of Object.keys(styleAttributes)) {\n",
              "    element.style[key] = styleAttributes[key];\n",
              "  }\n",
              "  return element;\n",
              "}\n",
              "\n",
              "// Max number of bytes which will be uploaded at a time.\n",
              "const MAX_PAYLOAD_SIZE = 100 * 1024;\n",
              "\n",
              "function _uploadFiles(inputId, outputId) {\n",
              "  const steps = uploadFilesStep(inputId, outputId);\n",
              "  const outputElement = document.getElementById(outputId);\n",
              "  // Cache steps on the outputElement to make it available for the next call\n",
              "  // to uploadFilesContinue from Python.\n",
              "  outputElement.steps = steps;\n",
              "\n",
              "  return _uploadFilesContinue(outputId);\n",
              "}\n",
              "\n",
              "// This is roughly an async generator (not supported in the browser yet),\n",
              "// where there are multiple asynchronous steps and the Python side is going\n",
              "// to poll for completion of each step.\n",
              "// This uses a Promise to block the python side on completion of each step,\n",
              "// then passes the result of the previous step as the input to the next step.\n",
              "function _uploadFilesContinue(outputId) {\n",
              "  const outputElement = document.getElementById(outputId);\n",
              "  const steps = outputElement.steps;\n",
              "\n",
              "  const next = steps.next(outputElement.lastPromiseValue);\n",
              "  return Promise.resolve(next.value.promise).then((value) => {\n",
              "    // Cache the last promise value to make it available to the next\n",
              "    // step of the generator.\n",
              "    outputElement.lastPromiseValue = value;\n",
              "    return next.value.response;\n",
              "  });\n",
              "}\n",
              "\n",
              "/**\n",
              " * Generator function which is called between each async step of the upload\n",
              " * process.\n",
              " * @param {string} inputId Element ID of the input file picker element.\n",
              " * @param {string} outputId Element ID of the output display.\n",
              " * @return {!Iterable<!Object>} Iterable of next steps.\n",
              " */\n",
              "function* uploadFilesStep(inputId, outputId) {\n",
              "  const inputElement = document.getElementById(inputId);\n",
              "  inputElement.disabled = false;\n",
              "\n",
              "  const outputElement = document.getElementById(outputId);\n",
              "  outputElement.innerHTML = '';\n",
              "\n",
              "  const pickedPromise = new Promise((resolve) => {\n",
              "    inputElement.addEventListener('change', (e) => {\n",
              "      resolve(e.target.files);\n",
              "    });\n",
              "  });\n",
              "\n",
              "  const cancel = document.createElement('button');\n",
              "  inputElement.parentElement.appendChild(cancel);\n",
              "  cancel.textContent = 'Cancel upload';\n",
              "  const cancelPromise = new Promise((resolve) => {\n",
              "    cancel.onclick = () => {\n",
              "      resolve(null);\n",
              "    };\n",
              "  });\n",
              "\n",
              "  // Wait for the user to pick the files.\n",
              "  const files = yield {\n",
              "    promise: Promise.race([pickedPromise, cancelPromise]),\n",
              "    response: {\n",
              "      action: 'starting',\n",
              "    }\n",
              "  };\n",
              "\n",
              "  cancel.remove();\n",
              "\n",
              "  // Disable the input element since further picks are not allowed.\n",
              "  inputElement.disabled = true;\n",
              "\n",
              "  if (!files) {\n",
              "    return {\n",
              "      response: {\n",
              "        action: 'complete',\n",
              "      }\n",
              "    };\n",
              "  }\n",
              "\n",
              "  for (const file of files) {\n",
              "    const li = document.createElement('li');\n",
              "    li.append(span(file.name, {fontWeight: 'bold'}));\n",
              "    li.append(span(\n",
              "        `(${file.type || 'n/a'}) - ${file.size} bytes, ` +\n",
              "        `last modified: ${\n",
              "            file.lastModifiedDate ? file.lastModifiedDate.toLocaleDateString() :\n",
              "                                    'n/a'} - `));\n",
              "    const percent = span('0% done');\n",
              "    li.appendChild(percent);\n",
              "\n",
              "    outputElement.appendChild(li);\n",
              "\n",
              "    const fileDataPromise = new Promise((resolve) => {\n",
              "      const reader = new FileReader();\n",
              "      reader.onload = (e) => {\n",
              "        resolve(e.target.result);\n",
              "      };\n",
              "      reader.readAsArrayBuffer(file);\n",
              "    });\n",
              "    // Wait for the data to be ready.\n",
              "    let fileData = yield {\n",
              "      promise: fileDataPromise,\n",
              "      response: {\n",
              "        action: 'continue',\n",
              "      }\n",
              "    };\n",
              "\n",
              "    // Use a chunked sending to avoid message size limits. See b/62115660.\n",
              "    let position = 0;\n",
              "    do {\n",
              "      const length = Math.min(fileData.byteLength - position, MAX_PAYLOAD_SIZE);\n",
              "      const chunk = new Uint8Array(fileData, position, length);\n",
              "      position += length;\n",
              "\n",
              "      const base64 = btoa(String.fromCharCode.apply(null, chunk));\n",
              "      yield {\n",
              "        response: {\n",
              "          action: 'append',\n",
              "          file: file.name,\n",
              "          data: base64,\n",
              "        },\n",
              "      };\n",
              "\n",
              "      let percentDone = fileData.byteLength === 0 ?\n",
              "          100 :\n",
              "          Math.round((position / fileData.byteLength) * 100);\n",
              "      percent.textContent = `${percentDone}% done`;\n",
              "\n",
              "    } while (position < fileData.byteLength);\n",
              "  }\n",
              "\n",
              "  // All done.\n",
              "  yield {\n",
              "    response: {\n",
              "      action: 'complete',\n",
              "    }\n",
              "  };\n",
              "}\n",
              "\n",
              "scope.google = scope.google || {};\n",
              "scope.google.colab = scope.google.colab || {};\n",
              "scope.google.colab._files = {\n",
              "  _uploadFiles,\n",
              "  _uploadFilesContinue,\n",
              "};\n",
              "})(self);\n",
              "</script> "
            ]
          },
          "metadata": {}
        },
        {
          "output_type": "stream",
          "name": "stdout",
          "text": [
            "Saving resultados partidos.csv to resultados partidos (1).csv\n"
          ]
        }
      ]
    },
    {
      "cell_type": "code",
      "execution_count": 140,
      "metadata": {
        "id": "qTeotMoivrPb"
      },
      "outputs": [],
      "source": [
        "import io"
      ]
    },
    {
      "cell_type": "code",
      "source": [],
      "metadata": {
        "id": "qXEQbvs7xtjW"
      },
      "execution_count": 140,
      "outputs": []
    },
    {
      "cell_type": "code",
      "source": [
        "data=pd.read_csv(io.BytesIO(uploaded['resultados partidos.csv']),sep=';')"
      ],
      "metadata": {
        "id": "zI_iJplLxWVc",
        "outputId": "3cfc7432-9fff-4df2-8f59-44631ff134c7",
        "colab": {
          "base_uri": "https://localhost:8080/",
          "height": 141
        }
      },
      "execution_count": 142,
      "outputs": [
        {
          "output_type": "error",
          "ename": "KeyError",
          "evalue": "'resultados partidos.csv'",
          "traceback": [
            "\u001b[0;31m---------------------------------------------------------------------------\u001b[0m",
            "\u001b[0;31mKeyError\u001b[0m                                  Traceback (most recent call last)",
            "\u001b[0;32m<ipython-input-142-58f421f1379d>\u001b[0m in \u001b[0;36m<cell line: 0>\u001b[0;34m()\u001b[0m\n\u001b[0;32m----> 1\u001b[0;31m \u001b[0mdata\u001b[0m\u001b[0;34m=\u001b[0m\u001b[0mpd\u001b[0m\u001b[0;34m.\u001b[0m\u001b[0mread_csv\u001b[0m\u001b[0;34m(\u001b[0m\u001b[0mio\u001b[0m\u001b[0;34m.\u001b[0m\u001b[0mBytesIO\u001b[0m\u001b[0;34m(\u001b[0m\u001b[0muploaded\u001b[0m\u001b[0;34m[\u001b[0m\u001b[0;34m'resultados partidos.csv'\u001b[0m\u001b[0;34m]\u001b[0m\u001b[0;34m)\u001b[0m\u001b[0;34m,\u001b[0m\u001b[0msep\u001b[0m\u001b[0;34m=\u001b[0m\u001b[0;34m';'\u001b[0m\u001b[0;34m)\u001b[0m\u001b[0;34m\u001b[0m\u001b[0;34m\u001b[0m\u001b[0m\n\u001b[0m",
            "\u001b[0;31mKeyError\u001b[0m: 'resultados partidos.csv'"
          ]
        }
      ]
    },
    {
      "cell_type": "code",
      "execution_count": null,
      "metadata": {
        "id": "m6Coa1H1vrPb"
      },
      "outputs": [],
      "source": [
        "data.head()"
      ]
    },
    {
      "cell_type": "code",
      "execution_count": null,
      "metadata": {
        "id": "dqdAzBKfvrPc"
      },
      "outputs": [],
      "source": [
        "data=data.dropna()"
      ]
    },
    {
      "cell_type": "code",
      "execution_count": null,
      "metadata": {
        "id": "Rr1qkiiVvrPc"
      },
      "outputs": [],
      "source": [
        "data.isnull().sum()"
      ]
    },
    {
      "cell_type": "code",
      "execution_count": null,
      "metadata": {
        "id": "CheIOKOcvrPd"
      },
      "outputs": [],
      "source": [
        "data.info()"
      ]
    },
    {
      "cell_type": "code",
      "execution_count": null,
      "metadata": {
        "id": "Ze4TsWRIvrPd"
      },
      "outputs": [],
      "source": [
        "data[['Goles a Favor','Goles en contra','En casa','Visitante']]=data[['Goles a Favor','Goles en contra','En casa','Visitante']].astype(int)"
      ]
    },
    {
      "cell_type": "code",
      "source": [
        "data"
      ],
      "metadata": {
        "id": "WgaxryWq7eXW"
      },
      "execution_count": null,
      "outputs": []
    },
    {
      "cell_type": "markdown",
      "metadata": {
        "id": "tOUWmkYUvrPd"
      },
      "source": [
        "# Análisis de datos"
      ]
    },
    {
      "cell_type": "code",
      "execution_count": null,
      "metadata": {
        "id": "3mDT3yvmvrPe"
      },
      "outputs": [],
      "source": [
        "goles=data[['Goles a Favor','Goles en contra']]"
      ]
    },
    {
      "cell_type": "code",
      "execution_count": null,
      "metadata": {
        "id": "QYOLLmUvvrPf"
      },
      "outputs": [],
      "source": [
        "goles.sum()"
      ]
    },
    {
      "cell_type": "code",
      "execution_count": null,
      "metadata": {
        "id": "Cj42OiOEvrPg"
      },
      "outputs": [],
      "source": [
        "goles.describe()"
      ]
    },
    {
      "cell_type": "code",
      "execution_count": null,
      "metadata": {
        "id": "zoBpAPsdvrPg"
      },
      "outputs": [],
      "source": [
        "diferencia_goles=data['Goles a Favor']-data['Goles en contra']\n",
        "\n",
        "diferencia_goles.sum()"
      ]
    },
    {
      "cell_type": "markdown",
      "metadata": {
        "id": "qfFXoivyvrPh"
      },
      "source": [
        "A lo largo de las 20 temporadas, el mayor numero de goles a favor en un partido ha sido 13 goles.\n",
        "El mayor numero de goles en contra en un partido ha sido 8 goles.\n",
        "\n",
        "El equipo marca una media de 1.64 goles por partido, y recibe 1.54. Por lo tanto marca mas que recibe aunque con un margen pequeño\n",
        "la diferencia de goles ha sido de 53 goles"
      ]
    },
    {
      "cell_type": "code",
      "execution_count": null,
      "metadata": {
        "id": "zaZVbbq6vrPh"
      },
      "outputs": [],
      "source": [
        "import plotly.express as px"
      ]
    },
    {
      "cell_type": "code",
      "execution_count": null,
      "metadata": {
        "id": "nQrzCnnfvrPi"
      },
      "outputs": [],
      "source": [
        "\n",
        "fig=px.bar(data_frame=goles.sum(),color=('A favor','En contra'))\n",
        "\n",
        "fig.update_xaxes(title='')\n",
        "fig.update_yaxes(title='Número de goles')"
      ]
    },
    {
      "cell_type": "code",
      "execution_count": null,
      "metadata": {
        "id": "pqpDjkeNvrPi"
      },
      "outputs": [],
      "source": [
        "goles_a_favor_en_casa=data[data['En casa']==1.0]['Goles a Favor'].sum()\n",
        "goles_en_contra_en_casa=data[data['En casa']==1.0]['Goles en contra'].sum()"
      ]
    },
    {
      "cell_type": "code",
      "execution_count": null,
      "metadata": {
        "id": "B0WGRbzvvrPi"
      },
      "outputs": [],
      "source": [
        "goles_en_casa=[goles_a_favor_en_casa,goles_en_contra_en_casa]\n",
        "etiquetas=['Goles a favor en casa','Goles en contra en casa']"
      ]
    },
    {
      "cell_type": "code",
      "execution_count": null,
      "metadata": {
        "id": "PYNtGephvrPi"
      },
      "outputs": [],
      "source": [
        "goles_en_casa"
      ]
    },
    {
      "cell_type": "code",
      "execution_count": null,
      "metadata": {
        "id": "CdrlXjPKvrPj"
      },
      "outputs": [],
      "source": [
        "plt.bar(etiquetas,goles_en_casa,color=('green','red'))\n",
        "plt.show()"
      ]
    },
    {
      "cell_type": "code",
      "execution_count": null,
      "metadata": {
        "id": "EmL_wRVrvrPj"
      },
      "outputs": [],
      "source": [
        "goles_a_favor_fuera=data[data['Visitante']==1.0]['Goles a Favor'].sum()\n",
        "goles_en_contra_fuera=data[data['Visitante']==1.0]['Goles en contra'].sum()\n",
        "goles_fuera=[goles_a_favor_fuera,goles_en_contra_fuera]\n",
        "etiquetas_fuera=['goles_a_favor_fuera','goles_en_contra_fuera']"
      ]
    },
    {
      "cell_type": "code",
      "execution_count": null,
      "metadata": {
        "id": "v2nl5nu1vrPj"
      },
      "outputs": [],
      "source": [
        "plt.bar(etiquetas_fuera,goles_fuera,color=('green','red'))"
      ]
    },
    {
      "cell_type": "code",
      "execution_count": null,
      "metadata": {
        "id": "B5xEi01WvrPj"
      },
      "outputs": [],
      "source": [
        "print(f'el numero de goles en casa fueron {goles_a_favor_en_casa} a favor y {goles_en_contra_en_casa} en contra ')\n",
        "print(f'el numero de goles fuera se establece en {goles_a_favor_fuera} a favor y {goles_en_contra_fuera} en contra ')"
      ]
    },
    {
      "cell_type": "code",
      "execution_count": null,
      "metadata": {
        "id": "D3wDwIXrvrPk"
      },
      "outputs": [],
      "source": [
        "media_goles_en_contra_visitante=data[data['Visitante']==1.0]['Goles en contra'].mean()\n",
        "media_goles_en_contra_local=data[data['En casa']==1.0]['Goles en contra'].mean()\n",
        "print(f'La media de goles en contra como local es {round(media_goles_en_contra_local,2)} y {round(media_goles_en_contra_visitante,2)} como visitante ')"
      ]
    },
    {
      "cell_type": "code",
      "execution_count": null,
      "metadata": {
        "id": "9EZ8np7PvrPk"
      },
      "outputs": [],
      "source": [
        "partidos_ganados=data[data['Goles a Favor']>data['Goles en contra']].shape[0]\n",
        "partidos_perdidos=data[data['Goles a Favor']<data['Goles en contra']].shape[0]\n",
        "partidos_empatados=data[data['Goles a Favor']==data['Goles en contra']].shape[0]"
      ]
    },
    {
      "cell_type": "code",
      "execution_count": null,
      "metadata": {
        "id": "BHr_Nx1EvrPk"
      },
      "outputs": [],
      "source": [
        "print(f'El numero de partidos ganados es {partidos_ganados}')\n",
        "print(f'el numero de partidos empatados es {partidos_empatados}')\n",
        "print(f'el numero de partidos perdidos es {partidos_perdidos}')"
      ]
    },
    {
      "cell_type": "code",
      "execution_count": null,
      "metadata": {
        "id": "kPsMgaRMvrPk"
      },
      "outputs": [],
      "source": [
        "vic_emp_derr=[partidos_ganados,partidos_empatados,partidos_perdidos]\n",
        "etiquetas_vic_derr=['Partidos ganados','Partidos empatados','Partidos perdidos']\n",
        "plt.bar(etiquetas_vic_derr,vic_emp_derr,color=('green','yellow','red'))"
      ]
    },
    {
      "cell_type": "code",
      "execution_count": null,
      "metadata": {
        "id": "SYFlG4zDvrPl"
      },
      "outputs": [],
      "source": [
        "puntos_conseguidos=(partidos_ganados) *3 + partidos_empatados\n",
        "puntos_perdidos=partidos_perdidos*3\n",
        "diferencia_puntos=puntos_conseguidos - puntos_perdidos\n",
        "print(f'El numero de puntos conseguidos es {puntos_conseguidos}, ha perdido {puntos_perdidos}. La diferencia de puntos es {diferencia_puntos}' )"
      ]
    },
    {
      "cell_type": "code",
      "execution_count": null,
      "metadata": {
        "id": "4NZntxL_vrPl"
      },
      "outputs": [],
      "source": [
        "partidos_ganados_casa=data[(data['Goles a Favor']>data['Goles en contra']) & (data['En casa']==1.0)].shape[0]\n",
        "partidos_ganados_fuera=data[(data['Goles a Favor']>data['Goles en contra']) & (data['Visitante']==1.0)].shape[0]\n",
        "print(f'A lo largo de estos 20 años ha ganado {partidos_ganados_casa} partidos en casa y {partidos_ganados_fuera} fuera')"
      ]
    },
    {
      "cell_type": "code",
      "execution_count": null,
      "metadata": {
        "id": "PMCjgxl-vrPl"
      },
      "outputs": [],
      "source": [
        "partidos_perdidos_casa=data[(data['Goles a Favor']<data['Goles en contra']) & (data['En casa']==1.0)].shape[0]\n",
        "partidos_perdidos_fuera=data[(data['Goles a Favor']<data['Goles en contra']) & (data['Visitante']==1.0)].shape[0]\n",
        "print(f'A lo largo de estos 20 años ha perdido {partidos_perdidos_casa} partidos en casa y {partidos_perdidos_fuera} fuera')"
      ]
    },
    {
      "cell_type": "code",
      "execution_count": null,
      "metadata": {
        "id": "0zjMPB4xvrPl"
      },
      "outputs": [],
      "source": [
        "porcentaje_victorias_casa=(partidos_ganados_casa*100)/partidos_ganados\n",
        "\n",
        "porcentaje_victorias_fuera=(partidos_ganados_fuera*100)/partidos_ganados\n",
        "print(f'El porcentaje de victorias en casa es del {round(porcentaje_victorias_casa,2)}%')\n",
        "print(f'El porcentaje de victorias a domicilio es del {round(porcentaje_victorias_fuera,2)}%')\n"
      ]
    },
    {
      "cell_type": "code",
      "execution_count": null,
      "metadata": {
        "id": "91l1No_cvrPl"
      },
      "outputs": [],
      "source": [
        "porcentaje_victorias=[porcentaje_victorias_casa,porcentaje_victorias_fuera]\n",
        "etiquetas_tarta1=['porcentaje victorias local','porcentaje victorias visitante']\n",
        "px.pie(values=porcentaje_victorias,names=etiquetas_tarta1,title='Porcentaje de victorias')"
      ]
    },
    {
      "cell_type": "code",
      "execution_count": null,
      "metadata": {
        "id": "D2dUxQEwvrPm"
      },
      "outputs": [],
      "source": [
        "porcentaje_derrotas_casa=(partidos_perdidos_casa*100)/partidos_perdidos\n",
        "\n",
        "porcentaje_derrotas_fuera=(partidos_perdidos_fuera*100)/partidos_perdidos\n",
        "print(f'El porcentaje de derrotas en casa es del {round(porcentaje_derrotas_casa,2)}%')\n",
        "print(f'El porcentaje de derrotas a domicilio es del {round(porcentaje_derrotas_fuera,2)}%')"
      ]
    },
    {
      "cell_type": "code",
      "execution_count": null,
      "metadata": {
        "id": "AVZ-DuTkvrPm"
      },
      "outputs": [],
      "source": [
        "porcentaje_derrotas=[porcentaje_derrotas_casa,porcentaje_derrotas_fuera]\n",
        "etiquetas_tarta2=['porcentaje_derrotas_casa','porcentaje_derrotas_fuera']\n",
        "px.pie(data,values=porcentaje_derrotas,names=etiquetas_tarta2,title='Porcentaje_derrotas')\n"
      ]
    },
    {
      "cell_type": "code",
      "execution_count": null,
      "metadata": {
        "id": "jxW_LYuPvrPm"
      },
      "outputs": [],
      "source": [
        "resultados_mas_repetidos=data[['Goles a Favor','Goles en contra']].value_counts().head()"
      ]
    },
    {
      "cell_type": "code",
      "execution_count": null,
      "metadata": {
        "id": "pYIb2Jg-vrPm"
      },
      "outputs": [],
      "source": [
        "resultados_mas_repetidos=pd.DataFrame(resultados_mas_repetidos)\n",
        "resultados_mas_repetidos=resultados_mas_repetidos.reset_index()\n",
        "\n",
        "resultados_mas_repetidos"
      ]
    },
    {
      "cell_type": "code",
      "execution_count": null,
      "metadata": {
        "id": "y06y8SUhvrPn"
      },
      "outputs": [],
      "source": [
        "clasificaciones_jornada_34={\n",
        "    2006:5,\n",
        "    2007:2,\n",
        "    2008:9,\n",
        "    2009:8,\n",
        "    2010:14,\n",
        "    2011:17,\n",
        "    2012:11,\n",
        "    2013:12,\n",
        "    2014:13,\n",
        "    2015:7,\n",
        "    2016:12,\n",
        "    2017:9,\n",
        "    2018:11,\n",
        "    2019:11,\n",
        "    2020:13,\n",
        "    2021:10,\n",
        "    2022:14,\n",
        "    2023:9,\n",
        "    2024:1\n",
        "}"
      ]
    },
    {
      "cell_type": "code",
      "source": [
        "df = pd.DataFrame(list(clasificaciones_jornada_34.items()), columns=['Año', 'Clasificación'])"
      ],
      "metadata": {
        "id": "X5gisWe5Wv4v"
      },
      "execution_count": null,
      "outputs": []
    },
    {
      "cell_type": "code",
      "source": [
        "\n",
        "df.to_csv('clasificaciones.csv', index=False)\n",
        "\n",
        "\n",
        "files.download('clasificaciones.csv')"
      ],
      "metadata": {
        "id": "cLDD__GcW3Yn"
      },
      "execution_count": null,
      "outputs": []
    },
    {
      "cell_type": "code",
      "source": [
        "plt.plot(df['Año'],df['Clasificación'])"
      ],
      "metadata": {
        "id": "qBYPvqzAX987"
      },
      "execution_count": null,
      "outputs": []
    },
    {
      "cell_type": "markdown",
      "source": [
        "#Clasificacion lineal"
      ],
      "metadata": {
        "id": "O6g10kH-3mR1"
      }
    },
    {
      "cell_type": "code",
      "source": [
        "import sklearn"
      ],
      "metadata": {
        "id": "AYVIbJfeYQjF"
      },
      "execution_count": null,
      "outputs": []
    },
    {
      "cell_type": "code",
      "source": [
        "from sklearn.linear_model import LogisticRegression"
      ],
      "metadata": {
        "id": "hGJsadjacf5b"
      },
      "execution_count": null,
      "outputs": []
    },
    {
      "cell_type": "code",
      "source": [
        "df=pd.DataFrame(df)"
      ],
      "metadata": {
        "id": "Xxm5mCIaeoDf"
      },
      "execution_count": null,
      "outputs": []
    },
    {
      "cell_type": "code",
      "source": [
        "x=df[['Año']]\n",
        "y=df['Clasificación']"
      ],
      "metadata": {
        "id": "fP30jWukczyB"
      },
      "execution_count": null,
      "outputs": []
    },
    {
      "cell_type": "code",
      "source": [],
      "metadata": {
        "id": "zZ8XAYqoe08j"
      },
      "execution_count": null,
      "outputs": []
    },
    {
      "cell_type": "code",
      "source": [
        "lr=LogisticRegression()"
      ],
      "metadata": {
        "id": "BW1OSEevdDxT"
      },
      "execution_count": null,
      "outputs": []
    },
    {
      "cell_type": "code",
      "source": [],
      "metadata": {
        "id": "O1juFWIAe6Tx"
      },
      "execution_count": null,
      "outputs": []
    },
    {
      "cell_type": "code",
      "source": [
        "lr.fit(x,y)"
      ],
      "metadata": {
        "id": "hRFHvrqhdTwq"
      },
      "execution_count": null,
      "outputs": []
    },
    {
      "cell_type": "code",
      "source": [
        "yhat=lr.predict(x)"
      ],
      "metadata": {
        "id": "TWsomlHXdbd-"
      },
      "execution_count": null,
      "outputs": []
    },
    {
      "cell_type": "code",
      "source": [
        "yhat"
      ],
      "metadata": {
        "id": "7PuTqDuKgBbk"
      },
      "execution_count": null,
      "outputs": []
    },
    {
      "cell_type": "code",
      "source": [
        "y"
      ],
      "metadata": {
        "id": "92hNK_eAgMwt"
      },
      "execution_count": null,
      "outputs": []
    },
    {
      "cell_type": "code",
      "source": [
        "plt.plot(x,y)"
      ],
      "metadata": {
        "id": "ZJV7A401gVa3"
      },
      "execution_count": null,
      "outputs": []
    },
    {
      "cell_type": "code",
      "source": [
        "plt.plot(x,yhat)"
      ],
      "metadata": {
        "id": "7l5OAxw_guZU"
      },
      "execution_count": null,
      "outputs": []
    },
    {
      "cell_type": "code",
      "source": [
        "año_futuro=2025\n",
        "\n",
        "# Crear un DataFrame con el año futuro\n",
        "datos_futuros = pd.DataFrame({'Año': [año_futuro]})\n",
        "\n",
        "# Realizar la predicción\n",
        "prediccion_futura = lr.predict(datos_futuros)\n",
        "print(\"Predicción para el año\", año_futuro, \":\", prediccion_futura[0])"
      ],
      "metadata": {
        "id": "_9xtAMAxg1KL"
      },
      "execution_count": null,
      "outputs": []
    },
    {
      "cell_type": "markdown",
      "source": [
        "# Decission tree"
      ],
      "metadata": {
        "id": "S7gqK3TE3duy"
      }
    },
    {
      "cell_type": "code",
      "source": [
        "from sklearn.tree import DecisionTreeClassifier"
      ],
      "metadata": {
        "id": "DcSuoQ8diNJQ"
      },
      "execution_count": null,
      "outputs": []
    },
    {
      "cell_type": "code",
      "source": [
        "arbol=DecisionTreeClassifier()"
      ],
      "metadata": {
        "id": "SJA9sVM8l4ao"
      },
      "execution_count": null,
      "outputs": []
    },
    {
      "cell_type": "code",
      "source": [
        "arbol.fit(x,y)"
      ],
      "metadata": {
        "id": "t6O-1M4i1gzh"
      },
      "execution_count": null,
      "outputs": []
    },
    {
      "cell_type": "code",
      "source": [
        "yhat2=arbol.predict(x)"
      ],
      "metadata": {
        "id": "qcQcxuE71kNX"
      },
      "execution_count": null,
      "outputs": []
    },
    {
      "cell_type": "code",
      "source": [
        "plt.plot(x,yhat2)"
      ],
      "metadata": {
        "id": "NGyHZTcA10OC"
      },
      "execution_count": null,
      "outputs": []
    },
    {
      "cell_type": "code",
      "source": [
        "plt.plot(x,y)"
      ],
      "metadata": {
        "id": "R4wENIzm2H93"
      },
      "execution_count": null,
      "outputs": []
    },
    {
      "cell_type": "code",
      "source": [
        "yhat2"
      ],
      "metadata": {
        "id": "Cn3-Xi8Q2NTo"
      },
      "execution_count": null,
      "outputs": []
    },
    {
      "cell_type": "code",
      "source": [
        "arbol.predict(datos_futuros)"
      ],
      "metadata": {
        "id": "Xcf3VIfz2ZK3"
      },
      "execution_count": null,
      "outputs": []
    },
    {
      "cell_type": "markdown",
      "source": [
        "# Red neuronal"
      ],
      "metadata": {
        "id": "vOHBlQoB3sXC"
      }
    },
    {
      "cell_type": "code",
      "source": [
        "from keras.models import Sequential\n",
        "from keras.layers import Dense"
      ],
      "metadata": {
        "id": "8YKcf-Vl3NeH"
      },
      "execution_count": null,
      "outputs": []
    },
    {
      "cell_type": "markdown",
      "source": [
        "añadiendo mas variables"
      ],
      "metadata": {
        "id": "tAzpXtdl4dNA"
      }
    },
    {
      "cell_type": "code",
      "source": [
        "data"
      ],
      "metadata": {
        "id": "hWvDG5Xd3qKa"
      },
      "execution_count": null,
      "outputs": []
    },
    {
      "cell_type": "code",
      "source": [
        "def calcular_resultado(row):\n",
        "  if row['Goles a Favor']>row['Goles en contra']:\n",
        "    return 1,\n",
        "  if row['Goles a Favor']<row['Goles en contra']:\n",
        "    return 2,\n",
        "  if row['Goles a Favor']==row['Goles en contra']:\n",
        "    return 0"
      ],
      "metadata": {
        "id": "EmUlXxNo4gAc"
      },
      "execution_count": null,
      "outputs": []
    },
    {
      "cell_type": "code",
      "source": [
        "data['Resultado']=data.apply(calcular_resultado, axis=1)"
      ],
      "metadata": {
        "id": "nspBWc965jh_"
      },
      "execution_count": null,
      "outputs": []
    },
    {
      "cell_type": "code",
      "source": [
        "data.head(10)"
      ],
      "metadata": {
        "id": "hwmttg6O6Jof"
      },
      "execution_count": null,
      "outputs": []
    },
    {
      "cell_type": "code",
      "source": [],
      "metadata": {
        "id": "bJsdkRgB6rQL"
      },
      "execution_count": null,
      "outputs": []
    }
  ],
  "metadata": {
    "kernelspec": {
      "display_name": "Python 3",
      "language": "python",
      "name": "python3"
    },
    "language_info": {
      "codemirror_mode": {
        "name": "ipython",
        "version": 3
      },
      "file_extension": ".py",
      "mimetype": "text/x-python",
      "name": "python",
      "nbconvert_exporter": "python",
      "pygments_lexer": "ipython3",
      "version": "3.12.2"
    },
    "colab": {
      "provenance": [],
      "include_colab_link": true
    }
  },
  "nbformat": 4,
  "nbformat_minor": 0
}